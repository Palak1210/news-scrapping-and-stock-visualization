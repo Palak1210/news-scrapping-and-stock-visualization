{
  "nbformat": 4,
  "nbformat_minor": 0,
  "metadata": {
    "colab": {
      "name": "Group5.ipynb",
      "provenance": [],
      "collapsed_sections": []
    },
    "kernelspec": {
      "name": "python3",
      "display_name": "Python 3"
    },
    "language_info": {
      "name": "python"
    }
  },
  "cells": [
    {
      "cell_type": "code",
      "execution_count": null,
      "metadata": {
        "id": "U-FNd42vig3I",
        "colab": {
          "base_uri": "https://localhost:8080/"
        },
        "outputId": "bda256c7-52d1-4d20-a2c8-31bcbebf3742"
      },
      "outputs": [
        {
          "output_type": "stream",
          "name": "stdout",
          "text": [
            "Collecting yfinance\n",
            "  Downloading yfinance-0.1.70-py2.py3-none-any.whl (26 kB)\n",
            "Requirement already satisfied: multitasking>=0.0.7 in /usr/local/lib/python3.7/dist-packages (from yfinance) (0.0.10)\n",
            "Requirement already satisfied: pandas>=0.24.0 in /usr/local/lib/python3.7/dist-packages (from yfinance) (1.3.5)\n",
            "Collecting lxml>=4.5.1\n",
            "  Downloading lxml-4.8.0-cp37-cp37m-manylinux_2_17_x86_64.manylinux2014_x86_64.manylinux_2_24_x86_64.whl (6.4 MB)\n",
            "\u001b[K     |████████████████████████████████| 6.4 MB 10.3 MB/s \n",
            "\u001b[?25hCollecting requests>=2.26\n",
            "  Downloading requests-2.27.1-py2.py3-none-any.whl (63 kB)\n",
            "\u001b[K     |████████████████████████████████| 63 kB 1.1 MB/s \n",
            "\u001b[?25hRequirement already satisfied: numpy>=1.15 in /usr/local/lib/python3.7/dist-packages (from yfinance) (1.21.5)\n",
            "Requirement already satisfied: python-dateutil>=2.7.3 in /usr/local/lib/python3.7/dist-packages (from pandas>=0.24.0->yfinance) (2.8.2)\n",
            "Requirement already satisfied: pytz>=2017.3 in /usr/local/lib/python3.7/dist-packages (from pandas>=0.24.0->yfinance) (2018.9)\n",
            "Requirement already satisfied: six>=1.5 in /usr/local/lib/python3.7/dist-packages (from python-dateutil>=2.7.3->pandas>=0.24.0->yfinance) (1.15.0)\n",
            "Requirement already satisfied: charset-normalizer~=2.0.0 in /usr/local/lib/python3.7/dist-packages (from requests>=2.26->yfinance) (2.0.12)\n",
            "Requirement already satisfied: urllib3<1.27,>=1.21.1 in /usr/local/lib/python3.7/dist-packages (from requests>=2.26->yfinance) (1.24.3)\n",
            "Requirement already satisfied: certifi>=2017.4.17 in /usr/local/lib/python3.7/dist-packages (from requests>=2.26->yfinance) (2021.10.8)\n",
            "Requirement already satisfied: idna<4,>=2.5 in /usr/local/lib/python3.7/dist-packages (from requests>=2.26->yfinance) (2.10)\n",
            "Installing collected packages: requests, lxml, yfinance\n",
            "  Attempting uninstall: requests\n",
            "    Found existing installation: requests 2.23.0\n",
            "    Uninstalling requests-2.23.0:\n",
            "      Successfully uninstalled requests-2.23.0\n",
            "  Attempting uninstall: lxml\n",
            "    Found existing installation: lxml 4.2.6\n",
            "    Uninstalling lxml-4.2.6:\n",
            "      Successfully uninstalled lxml-4.2.6\n",
            "\u001b[31mERROR: pip's dependency resolver does not currently take into account all the packages that are installed. This behaviour is the source of the following dependency conflicts.\n",
            "google-colab 1.0.0 requires requests~=2.23.0, but you have requests 2.27.1 which is incompatible.\n",
            "datascience 0.10.6 requires folium==0.2.1, but you have folium 0.8.3 which is incompatible.\u001b[0m\n",
            "Successfully installed lxml-4.8.0 requests-2.27.1 yfinance-0.1.70\n",
            "Collecting yahoofinancials\n",
            "  Downloading yahoofinancials-1.6.tar.gz (27 kB)\n",
            "Requirement already satisfied: beautifulsoup4 in /usr/local/lib/python3.7/dist-packages (from yahoofinancials) (4.6.3)\n",
            "Requirement already satisfied: pytz in /usr/local/lib/python3.7/dist-packages (from yahoofinancials) (2018.9)\n",
            "Building wheels for collected packages: yahoofinancials\n",
            "  Building wheel for yahoofinancials (setup.py) ... \u001b[?25l\u001b[?25hdone\n",
            "  Created wheel for yahoofinancials: filename=yahoofinancials-1.6-py3-none-any.whl size=15192 sha256=e8e5473456f2a58202abb64db4942b5307838fc1cae00fc25f11090c72198f9f\n",
            "  Stored in directory: /root/.cache/pip/wheels/4b/63/46/e7110bfee88685fe69e338d1b14d1748921862aa57b6705b60\n",
            "Successfully built yahoofinancials\n",
            "Installing collected packages: yahoofinancials\n",
            "Successfully installed yahoofinancials-1.6\n"
          ]
        }
      ],
      "source": [
        "!pip install yfinance\n",
        "!pip install yahoofinancials"
      ]
    },
    {
      "cell_type": "code",
      "source": [
        "#importing \n",
        "import time\n",
        "import datetime\n",
        "import pandas as pd\n",
        "import yfinance as yf\n",
        "from yahoofinancials import YahooFinancials"
      ],
      "metadata": {
        "id": "xJf0vGHcxjBK"
      },
      "execution_count": null,
      "outputs": []
    },
    {
      "cell_type": "code",
      "source": [
        "#CDR\n",
        "ticker = 'CDR'\n",
        "#time from and to\n",
        "period1 = int(time.mktime(datetime.datetime(2021, 10, 4, 23, 59).timetuple()))\n",
        "period2 = int(time.mktime(datetime.datetime(2022, 4, 5, 23, 59).timetuple()))\n",
        "#1wk = per week, #1d = per day, #1m = per month\n",
        "interval = '1d'"
      ],
      "metadata": {
        "id": "_Z_CBSWml_zH"
      },
      "execution_count": null,
      "outputs": []
    },
    {
      "cell_type": "code",
      "source": [
        "#grabing data from the website\n",
        "query_string = f\"https://query1.finance.yahoo.com/v7/finance/download/{ticker}?period1={period1}&period2={period2}&interval={interval}&events=history&includeAdjustedClose=true\""
      ],
      "metadata": {
        "id": "Dc68B4mnnaFN"
      },
      "execution_count": null,
      "outputs": []
    },
    {
      "cell_type": "code",
      "source": [
        "#data link\n",
        "query_string"
      ],
      "metadata": {
        "colab": {
          "base_uri": "https://localhost:8080/",
          "height": 35
        },
        "id": "2In8dHKsp_Aq",
        "outputId": "2e496bf6-e2d7-4e39-ecda-8e45a8d93533"
      },
      "execution_count": null,
      "outputs": [
        {
          "output_type": "execute_result",
          "data": {
            "text/plain": [
              "'https://query1.finance.yahoo.com/v7/finance/download/CDR?period1=1633391940&period2=1649203140&interval=1d&events=history&includeAdjustedClose=true'"
            ],
            "application/vnd.google.colaboratory.intrinsic+json": {
              "type": "string"
            }
          },
          "metadata": {},
          "execution_count": 81
        }
      ]
    },
    {
      "cell_type": "code",
      "source": [
        "df = pd.read_csv(query_string)"
      ],
      "metadata": {
        "id": "s5ATn1s8plnT"
      },
      "execution_count": null,
      "outputs": []
    },
    {
      "cell_type": "code",
      "source": [
        "# print the data from the link\n",
        "print(df)"
      ],
      "metadata": {
        "colab": {
          "base_uri": "https://localhost:8080/"
        },
        "id": "MYawReuiqfAB",
        "outputId": "d7b4017d-606e-4d44-edc4-37a64107907c"
      },
      "execution_count": null,
      "outputs": [
        {
          "output_type": "stream",
          "name": "stdout",
          "text": [
            "           Date       Open       High        Low      Close  Adj Close  Volume\n",
            "0    2021-10-04  22.230000  22.530001  22.200001  22.379999  22.249096   40000\n",
            "1    2021-10-05  22.600000  22.670000  21.900000  22.100000  21.970736   96000\n",
            "2    2021-10-06  21.650000  21.969999  21.360001  21.629999  21.503483  106100\n",
            "3    2021-10-07  21.910000  22.450001  21.780001  21.969999  21.841494   60000\n",
            "4    2021-10-08  21.830000  21.900000  21.150000  21.290001  21.165474   56000\n",
            "..          ...        ...        ...        ...        ...        ...     ...\n",
            "123  2022-03-30  27.590000  27.820000  27.500000  27.700001  27.700001   57300\n",
            "124  2022-03-31  27.610001  28.040001  27.590000  27.639999  27.639999  154300\n",
            "125  2022-04-01  27.700001  28.030001  27.660000  27.990000  27.990000   72400\n",
            "126  2022-04-04  27.950001  28.040001  27.770000  27.959999  27.959999   58000\n",
            "127  2022-04-05  27.920000  28.110001  27.820000  28.000000  28.000000  355600\n",
            "\n",
            "[128 rows x 7 columns]\n"
          ]
        }
      ]
    },
    {
      "cell_type": "code",
      "source": [
        "#FHN\n",
        "ticker = 'FHN'\n",
        "#time from and to\n",
        "period1 = int(time.mktime(datetime.datetime(2021, 10, 4, 23, 59).timetuple()))\n",
        "period2 = int(time.mktime(datetime.datetime(2022, 4, 5, 23, 59).timetuple()))\n",
        "#1wk = per week, #1d = per day, #1m = per month\n",
        "interval = '1d'"
      ],
      "metadata": {
        "id": "SISS4cc5xhew"
      },
      "execution_count": null,
      "outputs": []
    },
    {
      "cell_type": "code",
      "source": [
        "#grabing data from the website\n",
        "query_string = f\"https://query1.finance.yahoo.com/v7/finance/download/{ticker}?period1={period1}&period2={period2}&interval={interval}&events=history&includeAdjustedClose=true\""
      ],
      "metadata": {
        "id": "04oKr0hNqOTz"
      },
      "execution_count": null,
      "outputs": []
    },
    {
      "cell_type": "code",
      "source": [
        "#data link\n",
        "query_string"
      ],
      "metadata": {
        "colab": {
          "base_uri": "https://localhost:8080/",
          "height": 35
        },
        "id": "aYtow_CwuQ4C",
        "outputId": "561b832b-2e10-4876-c6ca-23b280c41141"
      },
      "execution_count": null,
      "outputs": [
        {
          "output_type": "execute_result",
          "data": {
            "text/plain": [
              "'https://query1.finance.yahoo.com/v7/finance/download/FHN?period1=1633391940&period2=1649203140&interval=1d&events=history&includeAdjustedClose=true'"
            ],
            "application/vnd.google.colaboratory.intrinsic+json": {
              "type": "string"
            }
          },
          "metadata": {},
          "execution_count": 86
        }
      ]
    },
    {
      "cell_type": "code",
      "source": [
        "df = pd.read_csv(query_string)"
      ],
      "metadata": {
        "id": "S93qOl9quS1a"
      },
      "execution_count": null,
      "outputs": []
    },
    {
      "cell_type": "code",
      "source": [
        "# print the data from the link\n",
        "print(df)"
      ],
      "metadata": {
        "colab": {
          "base_uri": "https://localhost:8080/"
        },
        "id": "CWg2L7yYuUqD",
        "outputId": "308e33e0-4833-4fee-aa86-519802ec6254"
      },
      "execution_count": null,
      "outputs": [
        {
          "output_type": "stream",
          "name": "stdout",
          "text": [
            "           Date       Open       High        Low      Close  Adj Close  \\\n",
            "0    2021-10-04  16.660000  16.990000  16.580000  16.629999  16.375740   \n",
            "1    2021-10-05  16.719999  16.740000  16.420000  16.549999  16.296965   \n",
            "2    2021-10-06  16.430000  16.469999  16.000000  16.240000  15.991703   \n",
            "3    2021-10-07  16.299999  16.650000  16.219999  16.520000  16.267424   \n",
            "4    2021-10-08  16.490000  16.820000  16.440001  16.680000  16.424976   \n",
            "..          ...        ...        ...        ...        ...        ...   \n",
            "123  2022-03-30  23.580000  23.580000  23.469999  23.530001  23.530001   \n",
            "124  2022-03-31  23.500000  23.590000  23.490000  23.490000  23.490000   \n",
            "125  2022-04-01  23.580000  23.590000  23.500000  23.549999  23.549999   \n",
            "126  2022-04-04  23.520000  23.650000  23.520000  23.620001  23.620001   \n",
            "127  2022-04-05  23.600000  23.660000  23.430000  23.450001  23.450001   \n",
            "\n",
            "       Volume  \n",
            "0     4005200  \n",
            "1     6201200  \n",
            "2     4918000  \n",
            "3     4289300  \n",
            "4     3626600  \n",
            "..        ...  \n",
            "123  10023900  \n",
            "124   7374100  \n",
            "125   8062800  \n",
            "126   9057400  \n",
            "127  10231900  \n",
            "\n",
            "[128 rows x 7 columns]\n"
          ]
        }
      ]
    },
    {
      "cell_type": "code",
      "source": [
        "#STYE\n",
        "ticker = 'STYE'\n",
        "#time from and to\n",
        "period1 = int(time.mktime(datetime.datetime(2021, 10, 4, 23, 59).timetuple()))\n",
        "period2 = int(time.mktime(datetime.datetime(2022, 4, 5, 23, 59).timetuple()))\n",
        "#1wk = per week, #1d = per day, #1m = per month\n",
        "interval = '1d'"
      ],
      "metadata": {
        "id": "DeuTiG-gucS5"
      },
      "execution_count": null,
      "outputs": []
    },
    {
      "cell_type": "code",
      "source": [
        "#grabing data from the website\n",
        "query_string = f\"https://query1.finance.yahoo.com/v7/finance/download/SYTE?period1={period1}&period2={period2}&interval={interval}&events=history&includeAdjustedClose=true\""
      ],
      "metadata": {
        "id": "ecK6g-15u8_k"
      },
      "execution_count": null,
      "outputs": []
    },
    {
      "cell_type": "code",
      "source": [
        "#data link\n",
        "query_string"
      ],
      "metadata": {
        "colab": {
          "base_uri": "https://localhost:8080/",
          "height": 35
        },
        "id": "JXawHQ9mvE-k",
        "outputId": "bacb3e54-c3a7-4f12-de17-63b716fec970"
      },
      "execution_count": null,
      "outputs": [
        {
          "output_type": "execute_result",
          "data": {
            "text/plain": [
              "'https://query1.finance.yahoo.com/v7/finance/download/SYTE?period1=1633391940&period2=1649203140&interval=1d&events=history&includeAdjustedClose=true'"
            ],
            "application/vnd.google.colaboratory.intrinsic+json": {
              "type": "string"
            }
          },
          "metadata": {},
          "execution_count": 94
        }
      ]
    },
    {
      "cell_type": "code",
      "source": [
        "df = pd.read_csv(query_string)"
      ],
      "metadata": {
        "id": "1OmlV2EGvGXa"
      },
      "execution_count": null,
      "outputs": []
    },
    {
      "cell_type": "code",
      "source": [
        "# print the data from the link\n",
        "print(df)"
      ],
      "metadata": {
        "colab": {
          "base_uri": "https://localhost:8080/"
        },
        "id": "pQgjrorUvHsr",
        "outputId": "945681ad-e94f-4326-aed5-57df44e1e333"
      },
      "execution_count": null,
      "outputs": [
        {
          "output_type": "stream",
          "name": "stdout",
          "text": [
            "           Date  Open  High   Low  Close  Adj Close  Volume\n",
            "0    2021-10-04  7.10  7.10  7.09   7.10       7.10    1000\n",
            "1    2021-10-05  7.10  7.10  7.10   7.10       7.10       0\n",
            "2    2021-10-06  7.10  7.10  7.10   7.10       7.10       0\n",
            "3    2021-10-07  7.10  7.10  7.10   7.10       7.10     500\n",
            "4    2021-10-08  7.10  7.10  7.10   7.10       7.10     800\n",
            "..          ...   ...   ...   ...    ...        ...     ...\n",
            "123  2022-03-30  7.45  7.45  7.45   7.45       7.45     600\n",
            "124  2022-03-31  7.45  7.45  7.45   7.45       7.45       0\n",
            "125  2022-04-01  7.45  7.45  7.45   7.45       7.45       0\n",
            "126  2022-04-04  7.45  7.45  7.45   7.45       7.45       0\n",
            "127  2022-04-05  7.45  7.45  7.45   7.45       7.45       0\n",
            "\n",
            "[128 rows x 7 columns]\n"
          ]
        }
      ]
    },
    {
      "cell_type": "code",
      "source": [
        "#GDNSF\n",
        "ticker = 'GDNSF'\n",
        "#time from and to\n",
        "period1 = int(time.mktime(datetime.datetime(2021, 10, 4, 23, 59).timetuple()))\n",
        "period2 = int(time.mktime(datetime.datetime(2022, 4, 5, 23, 59).timetuple()))\n",
        "#1wk = per week, #1d = per day, #1m = per month\n",
        "interval = '1d'"
      ],
      "metadata": {
        "id": "8UU6UP28yhHc"
      },
      "execution_count": null,
      "outputs": []
    },
    {
      "cell_type": "code",
      "source": [
        "#grabing data from the website\n",
        "query_string = f\"https://query1.finance.yahoo.com/v7/finance/download/{ticker}?period1={period1}&period2={period2}&interval={interval}&events=history&includeAdjustedClose=true\""
      ],
      "metadata": {
        "id": "wW0dUETLyjR5"
      },
      "execution_count": null,
      "outputs": []
    },
    {
      "cell_type": "code",
      "source": [
        "#data link\n",
        "query_string"
      ],
      "metadata": {
        "colab": {
          "base_uri": "https://localhost:8080/",
          "height": 35
        },
        "id": "o4uzDgJVykoC",
        "outputId": "6de04d9b-2c3f-444a-b905-9d4e232bed52"
      },
      "execution_count": null,
      "outputs": [
        {
          "output_type": "execute_result",
          "data": {
            "text/plain": [
              "'https://query1.finance.yahoo.com/v7/finance/download/GDNSF?period1=1633391940&period2=1649203140&interval=1d&events=history&includeAdjustedClose=true'"
            ],
            "application/vnd.google.colaboratory.intrinsic+json": {
              "type": "string"
            }
          },
          "metadata": {},
          "execution_count": 99
        }
      ]
    },
    {
      "cell_type": "code",
      "source": [
        "df = pd.read_csv(query_string)"
      ],
      "metadata": {
        "id": "8gjK4obvynAi"
      },
      "execution_count": null,
      "outputs": []
    },
    {
      "cell_type": "code",
      "source": [
        "# print the data from the link\n",
        "print(df)"
      ],
      "metadata": {
        "colab": {
          "base_uri": "https://localhost:8080/"
        },
        "id": "6I-53JZiyoW0",
        "outputId": "25843fed-3eec-4c02-fef9-f9fc75bc1972"
      },
      "execution_count": null,
      "outputs": [
        {
          "output_type": "stream",
          "name": "stdout",
          "text": [
            "           Date   Open   High    Low  Close  Adj Close  Volume\n",
            "0    2021-10-04  1.500  1.531  1.460  1.480      1.480  177700\n",
            "1    2021-10-05  1.500  1.600  1.464  1.590      1.590   97100\n",
            "2    2021-10-06  1.600  1.668  1.540  1.550      1.550   64800\n",
            "3    2021-10-07  1.576  1.650  1.550  1.630      1.630   85100\n",
            "4    2021-10-08  1.630  1.650  1.590  1.650      1.650   21500\n",
            "..          ...    ...    ...    ...    ...        ...     ...\n",
            "123  2022-03-30  2.056  2.120  2.050  2.099      2.099   38300\n",
            "124  2022-03-31  2.080  2.095  2.050  2.075      2.075   27200\n",
            "125  2022-04-01  2.070  2.150  2.040  2.101      2.101   61400\n",
            "126  2022-04-04  1.980  2.120  1.980  2.100      2.100   53800\n",
            "127  2022-04-05  2.100  2.101  1.980  1.980      1.980   49200\n",
            "\n",
            "[128 rows x 7 columns]\n"
          ]
        }
      ]
    },
    {
      "cell_type": "code",
      "source": [
        "#VOLT\n",
        "ticker = 'VOLT'\n",
        "#time from and to\n",
        "period1 = int(time.mktime(datetime.datetime(2021, 10, 4, 23, 59).timetuple()))\n",
        "period2 = int(time.mktime(datetime.datetime(2022, 4, 5, 23, 59).timetuple()))\n",
        "#1wk = per week, #1d = per day, #1m = per month\n",
        "interval = '1d'"
      ],
      "metadata": {
        "id": "mPuZRN_FzWxn"
      },
      "execution_count": null,
      "outputs": []
    },
    {
      "cell_type": "code",
      "source": [
        "#grabing data from the website\n",
        "query_string = f\"https://query1.finance.yahoo.com/v7/finance/download/{ticker}?period1={period1}&period2={period2}&interval=1d&events=history&includeAdjustedClose=true\""
      ],
      "metadata": {
        "id": "OxnGu1js0PKT"
      },
      "execution_count": null,
      "outputs": []
    },
    {
      "cell_type": "code",
      "source": [
        "#data link\n",
        "query_string"
      ],
      "metadata": {
        "colab": {
          "base_uri": "https://localhost:8080/",
          "height": 35
        },
        "id": "uIfgPvzz0QE9",
        "outputId": "c73f8068-f79c-4371-e522-fbf922fd4820"
      },
      "execution_count": null,
      "outputs": [
        {
          "output_type": "execute_result",
          "data": {
            "text/plain": [
              "'https://query1.finance.yahoo.com/v7/finance/download/VOLT?period1=1633391940&period2=1649203140&interval=1d&events=history&includeAdjustedClose=true'"
            ],
            "application/vnd.google.colaboratory.intrinsic+json": {
              "type": "string"
            }
          },
          "metadata": {},
          "execution_count": 104
        }
      ]
    },
    {
      "cell_type": "code",
      "source": [
        "df = pd.read_csv(query_string)"
      ],
      "metadata": {
        "id": "uiBFEcG20SeF"
      },
      "execution_count": null,
      "outputs": []
    },
    {
      "cell_type": "code",
      "source": [
        "# print the data from the link\n",
        "print(df)"
      ],
      "metadata": {
        "colab": {
          "base_uri": "https://localhost:8080/"
        },
        "id": "pP_lB8Z80UJj",
        "outputId": "e6b75565-3a6a-4d08-a8fb-cb089b689b55"
      },
      "execution_count": null,
      "outputs": [
        {
          "output_type": "stream",
          "name": "stdout",
          "text": [
            "           Date  Open  High   Low  Close  Adj Close  Volume\n",
            "0    2021-10-04  3.50  3.53  3.39   3.43       3.43   90600\n",
            "1    2021-10-05  3.44  3.56  3.42   3.50       3.50   49600\n",
            "2    2021-10-06  3.46  3.51  3.32   3.38       3.38   94100\n",
            "3    2021-10-07  3.36  3.56  3.36   3.50       3.50   37400\n",
            "4    2021-10-08  3.60  3.65  3.45   3.49       3.49   68300\n",
            "..          ...   ...   ...   ...    ...        ...     ...\n",
            "123  2022-03-30  5.98  5.99  5.98   5.99       5.99  157400\n",
            "124  2022-03-31  5.99  5.99  5.98   5.98       5.98  145900\n",
            "125  2022-04-01  5.98  5.99  5.97   5.97       5.97  114600\n",
            "126  2022-04-04  5.97  5.99  5.97   5.99       5.99  215000\n",
            "127  2022-04-05  5.98  5.99  5.97   5.98       5.98  199700\n",
            "\n",
            "[128 rows x 7 columns]\n"
          ]
        }
      ]
    },
    {
      "cell_type": "code",
      "source": [
        "#TLMD\n",
        "ticker = 'TLMD'\n",
        "#time from and to\n",
        "period1 = int(time.mktime(datetime.datetime(2021, 10, 4, 23, 59).timetuple()))\n",
        "period2 = int(time.mktime(datetime.datetime(2022, 4, 5, 23, 59).timetuple()))\n",
        "#1wk = per week, #1d = per day, #1m = per month\n",
        "interval = '1d'"
      ],
      "metadata": {
        "id": "dddRbuwn1Fek"
      },
      "execution_count": null,
      "outputs": []
    },
    {
      "cell_type": "code",
      "source": [
        "#grabing data from the website\n",
        "query_string = f\"https://query1.finance.yahoo.com/v7/finance/download/{ticker}?period1={period1}&period2={period2}&interval={interval}&events=history&includeAdjustedClose=true\""
      ],
      "metadata": {
        "id": "ArKEz3181Mb7"
      },
      "execution_count": null,
      "outputs": []
    },
    {
      "cell_type": "code",
      "source": [
        "#data link\n",
        "query_string"
      ],
      "metadata": {
        "colab": {
          "base_uri": "https://localhost:8080/",
          "height": 35
        },
        "id": "YfqcvTo_1hOU",
        "outputId": "8a597fa3-6552-412f-cbf4-3e2ff6a503af"
      },
      "execution_count": null,
      "outputs": [
        {
          "output_type": "execute_result",
          "data": {
            "text/plain": [
              "'https://query1.finance.yahoo.com/v7/finance/download/TLMD?period1=1633391940&period2=1649203140&interval=1d&events=history&includeAdjustedClose=true'"
            ],
            "application/vnd.google.colaboratory.intrinsic+json": {
              "type": "string"
            }
          },
          "metadata": {},
          "execution_count": 109
        }
      ]
    },
    {
      "cell_type": "code",
      "source": [
        "df = pd.read_csv(query_string)"
      ],
      "metadata": {
        "id": "j_waSuMr1cb8"
      },
      "execution_count": null,
      "outputs": []
    },
    {
      "cell_type": "code",
      "source": [
        "# print the data from the link\n",
        "print(df)"
      ],
      "metadata": {
        "colab": {
          "base_uri": "https://localhost:8080/"
        },
        "id": "B0Q9hPnP1jMc",
        "outputId": "4275da63-4365-4146-b820-a93105f3c30b"
      },
      "execution_count": null,
      "outputs": [
        {
          "output_type": "stream",
          "name": "stdout",
          "text": [
            "           Date  Open    High     Low  Close  Adj Close  Volume\n",
            "0    2021-10-04  2.20  2.2800  2.0500   2.12       2.12  719638\n",
            "1    2021-10-05  2.12  2.1299  1.9343   2.00       2.00  725622\n",
            "2    2021-10-06  2.02  2.0200  1.8700   1.90       1.90  348031\n",
            "3    2021-10-07  1.91  2.0600  1.9100   2.01       2.01  439349\n",
            "4    2021-10-08  2.04  2.0400  1.9000   1.93       1.93  328969\n",
            "..          ...   ...     ...     ...    ...        ...     ...\n",
            "123  2022-03-30  2.99  2.9900  2.9750   2.98       2.98  251788\n",
            "124  2022-03-31  2.98  2.9900  2.9700   2.99       2.99  828634\n",
            "125  2022-04-01  2.98  2.9900  2.9800   2.99       2.99  131530\n",
            "126  2022-04-04  2.98  3.0000  2.9800   3.00       3.00  280457\n",
            "127  2022-04-05  3.00  3.0000  2.9900   3.00       3.00  957655\n",
            "\n",
            "[128 rows x 7 columns]\n"
          ]
        }
      ]
    },
    {
      "cell_type": "code",
      "source": [
        "#AZPN\n",
        "ticker = 'AZPN'\n",
        "#time from and to\n",
        "period1 = int(time.mktime(datetime.datetime(2021, 10, 4, 23, 59).timetuple()))\n",
        "period2 = int(time.mktime(datetime.datetime(2022, 4, 5, 23, 59).timetuple()))\n",
        "#1wk = per week, #1d = per day, #1m = per month\n",
        "interval = '1d'"
      ],
      "metadata": {
        "id": "bk8135oz1CHE"
      },
      "execution_count": null,
      "outputs": []
    },
    {
      "cell_type": "code",
      "source": [
        "#grabing data from the website\n",
        "query_string = f\"https://query1.finance.yahoo.com/v7/finance/download/{ticker}?period1={period1}&period2={period2}&interval={interval}&events=history&includeAdjustedClose=true\""
      ],
      "metadata": {
        "id": "oHFoZXg21YLs"
      },
      "execution_count": null,
      "outputs": []
    },
    {
      "cell_type": "code",
      "source": [
        "#data link\n",
        "query_string"
      ],
      "metadata": {
        "colab": {
          "base_uri": "https://localhost:8080/",
          "height": 35
        },
        "id": "k8hDT3S31aT0",
        "outputId": "ce2c68cb-9fc8-45c7-9e1c-64e0c001231a"
      },
      "execution_count": null,
      "outputs": [
        {
          "output_type": "execute_result",
          "data": {
            "text/plain": [
              "'https://query1.finance.yahoo.com/v7/finance/download/AZPN?period1=1633391940&period2=1649203140&interval=1d&events=history&includeAdjustedClose=true'"
            ],
            "application/vnd.google.colaboratory.intrinsic+json": {
              "type": "string"
            }
          },
          "metadata": {},
          "execution_count": 114
        }
      ]
    },
    {
      "cell_type": "code",
      "source": [
        "df = pd.read_csv(query_string)"
      ],
      "metadata": {
        "id": "WCzlTQ2r1d0S"
      },
      "execution_count": null,
      "outputs": []
    },
    {
      "cell_type": "code",
      "source": [
        "# print the data from the link\n",
        "print(df)"
      ],
      "metadata": {
        "colab": {
          "base_uri": "https://localhost:8080/"
        },
        "id": "3dJ6I-6_1j5d",
        "outputId": "c34ac6cb-06ca-4547-c2d9-c2d3d64adc2a"
      },
      "execution_count": null,
      "outputs": [
        {
          "output_type": "stream",
          "name": "stdout",
          "text": [
            "           Date        Open        High         Low       Close   Adj Close  \\\n",
            "0    2021-10-04  124.790001  125.110001  122.930000  124.820000  124.820000   \n",
            "1    2021-10-05  125.139999  127.730003  124.809998  126.480003  126.480003   \n",
            "2    2021-10-06  126.870003  126.870003  124.029999  125.519997  125.519997   \n",
            "3    2021-10-07  141.589996  143.720001  134.389999  137.639999  137.639999   \n",
            "4    2021-10-08  137.270004  142.199997  137.009995  141.550003  141.550003   \n",
            "..          ...         ...         ...         ...         ...         ...   \n",
            "123  2022-03-30  162.490005  164.539993  161.509995  163.789993  163.789993   \n",
            "124  2022-03-31  164.039993  166.259995  163.529999  165.369995  165.369995   \n",
            "125  2022-04-01  164.630005  167.960007  164.630005  166.960007  166.960007   \n",
            "126  2022-04-04  167.059998  168.289993  165.880005  167.720001  167.720001   \n",
            "127  2022-04-05  168.229996  168.889999  165.630005  166.289993  166.289993   \n",
            "\n",
            "      Volume  \n",
            "0     530600  \n",
            "1     551200  \n",
            "2     256500  \n",
            "3    1948700  \n",
            "4     922200  \n",
            "..       ...  \n",
            "123   398700  \n",
            "124   458700  \n",
            "125   757400  \n",
            "126   486300  \n",
            "127   390800  \n",
            "\n",
            "[128 rows x 7 columns]\n"
          ]
        }
      ]
    },
    {
      "cell_type": "code",
      "source": [
        "#SEAC\n",
        "ticker = 'SEAC'\n",
        "#time from and to\n",
        "period1 = int(time.mktime(datetime.datetime(2021, 10, 4, 23, 59).timetuple()))\n",
        "period2 = int(time.mktime(datetime.datetime(2022, 4, 5, 23, 59).timetuple()))\n",
        "#1wk = per week, #1d = per day, #1m = per month\n",
        "interval = '1d'"
      ],
      "metadata": {
        "id": "5jqq_8-51PL0"
      },
      "execution_count": null,
      "outputs": []
    },
    {
      "cell_type": "code",
      "source": [
        "#grabing data from the website\n",
        "query_string = f\"https://query1.finance.yahoo.com/v7/finance/download/{ticker}?period1={period1}&period2={period2}&interval={interval}&events=history&includeAdjustedClose=true\""
      ],
      "metadata": {
        "id": "lcoAnrLz1Yuk"
      },
      "execution_count": null,
      "outputs": []
    },
    {
      "cell_type": "code",
      "source": [
        "#data link\n",
        "query_string"
      ],
      "metadata": {
        "colab": {
          "base_uri": "https://localhost:8080/",
          "height": 35
        },
        "id": "6xxNSeNn1a28",
        "outputId": "c050d093-9824-4aa1-dab2-d86062b5b3a4"
      },
      "execution_count": null,
      "outputs": [
        {
          "output_type": "execute_result",
          "data": {
            "text/plain": [
              "'https://query1.finance.yahoo.com/v7/finance/download/SEAC?period1=1633391940&period2=1649203140&interval=1d&events=history&includeAdjustedClose=true'"
            ],
            "application/vnd.google.colaboratory.intrinsic+json": {
              "type": "string"
            }
          },
          "metadata": {},
          "execution_count": 119
        }
      ]
    },
    {
      "cell_type": "code",
      "source": [
        "df = pd.read_csv(query_string)"
      ],
      "metadata": {
        "id": "RZI47wsC1f9t"
      },
      "execution_count": null,
      "outputs": []
    },
    {
      "cell_type": "code",
      "source": [
        "# print the data from the link\n",
        "print(df)"
      ],
      "metadata": {
        "colab": {
          "base_uri": "https://localhost:8080/"
        },
        "id": "SCb4GrTc1knb",
        "outputId": "4d8b80d4-9f49-4256-92b1-7d4bca6cd0e5"
      },
      "execution_count": null,
      "outputs": [
        {
          "output_type": "stream",
          "name": "stdout",
          "text": [
            "           Date  Open  High   Low  Close  Adj Close   Volume\n",
            "0    2021-10-04  1.05  1.06  1.03   1.04       1.04   296100\n",
            "1    2021-10-05  1.05  1.05  1.04   1.05       1.05   153400\n",
            "2    2021-10-06  1.04  1.05  1.02   1.02       1.02   244400\n",
            "3    2021-10-07  1.04  1.05  1.02   1.03       1.03   152700\n",
            "4    2021-10-08  1.03  1.04  1.01   1.01       1.01   257600\n",
            "..          ...   ...   ...   ...    ...        ...      ...\n",
            "123  2022-03-30  1.21  1.25  1.17   1.19       1.19  1574600\n",
            "124  2022-03-31  1.19  1.21  1.13   1.13       1.13  2175200\n",
            "125  2022-04-01  1.13  1.21  1.09   1.12       1.12  4665700\n",
            "126  2022-04-04  1.13  1.19  1.13   1.18       1.18  2185700\n",
            "127  2022-04-05  1.19  1.19  1.12   1.13       1.13  1348400\n",
            "\n",
            "[128 rows x 7 columns]\n"
          ]
        }
      ]
    }
  ]
}