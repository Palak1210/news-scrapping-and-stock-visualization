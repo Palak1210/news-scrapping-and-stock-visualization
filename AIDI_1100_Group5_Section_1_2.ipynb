{
  "nbformat": 4,
  "nbformat_minor": 0,
  "metadata": {
    "colab": {
      "name": "AIDI-1100-Group5-Section_1_2.ipynb",
      "provenance": []
    },
    "kernelspec": {
      "name": "python3",
      "display_name": "Python 3"
    },
    "language_info": {
      "name": "python"
    }
  },
  "cells": [
    {
      "cell_type": "code",
      "execution_count": null,
      "metadata": {
        "colab": {
          "base_uri": "https://localhost:8080/"
        },
        "id": "BgfdQNcYouH8",
        "outputId": "1c0da9e5-ba9a-46d2-c4b7-af7618ad191a"
      },
      "outputs": [
        {
          "output_type": "stream",
          "name": "stdout",
          "text": [
            "Requirement already satisfied: beautifulSoup4 in /usr/local/lib/python3.7/dist-packages (4.6.3)\n",
            "Requirement already satisfied: requests in /usr/local/lib/python3.7/dist-packages (2.27.1)\n",
            "Requirement already satisfied: certifi>=2017.4.17 in /usr/local/lib/python3.7/dist-packages (from requests) (2021.10.8)\n",
            "Requirement already satisfied: urllib3<1.27,>=1.21.1 in /usr/local/lib/python3.7/dist-packages (from requests) (1.24.3)\n",
            "Requirement already satisfied: idna<4,>=2.5 in /usr/local/lib/python3.7/dist-packages (from requests) (2.10)\n",
            "Requirement already satisfied: charset-normalizer~=2.0.0 in /usr/local/lib/python3.7/dist-packages (from requests) (2.0.12)\n",
            "Requirement already satisfied: yfinance in /usr/local/lib/python3.7/dist-packages (0.1.70)\n",
            "Requirement already satisfied: lxml>=4.5.1 in /usr/local/lib/python3.7/dist-packages (from yfinance) (4.8.0)\n",
            "Requirement already satisfied: numpy>=1.15 in /usr/local/lib/python3.7/dist-packages (from yfinance) (1.21.5)\n",
            "Requirement already satisfied: multitasking>=0.0.7 in /usr/local/lib/python3.7/dist-packages (from yfinance) (0.0.10)\n",
            "Requirement already satisfied: requests>=2.26 in /usr/local/lib/python3.7/dist-packages (from yfinance) (2.27.1)\n",
            "Requirement already satisfied: pandas>=0.24.0 in /usr/local/lib/python3.7/dist-packages (from yfinance) (1.3.5)\n",
            "Requirement already satisfied: python-dateutil>=2.7.3 in /usr/local/lib/python3.7/dist-packages (from pandas>=0.24.0->yfinance) (2.8.2)\n",
            "Requirement already satisfied: pytz>=2017.3 in /usr/local/lib/python3.7/dist-packages (from pandas>=0.24.0->yfinance) (2018.9)\n",
            "Requirement already satisfied: six>=1.5 in /usr/local/lib/python3.7/dist-packages (from python-dateutil>=2.7.3->pandas>=0.24.0->yfinance) (1.15.0)\n",
            "Requirement already satisfied: charset-normalizer~=2.0.0 in /usr/local/lib/python3.7/dist-packages (from requests>=2.26->yfinance) (2.0.12)\n",
            "Requirement already satisfied: certifi>=2017.4.17 in /usr/local/lib/python3.7/dist-packages (from requests>=2.26->yfinance) (2021.10.8)\n",
            "Requirement already satisfied: urllib3<1.27,>=1.21.1 in /usr/local/lib/python3.7/dist-packages (from requests>=2.26->yfinance) (1.24.3)\n",
            "Requirement already satisfied: idna<4,>=2.5 in /usr/local/lib/python3.7/dist-packages (from requests>=2.26->yfinance) (2.10)\n",
            "Requirement already satisfied: yahoofinancials in /usr/local/lib/python3.7/dist-packages (1.6)\n",
            "Requirement already satisfied: pytz in /usr/local/lib/python3.7/dist-packages (from yahoofinancials) (2018.9)\n",
            "Requirement already satisfied: beautifulsoup4 in /usr/local/lib/python3.7/dist-packages (from yahoofinancials) (4.6.3)\n"
          ]
        }
      ],
      "source": [
        "!pip install beautifulSoup4\n",
        "!pip install requests\n",
        "!pip install yfinance\n",
        "!pip install yahoofinancials"
      ]
    },
    {
      "cell_type": "code",
      "source": [
        "from bs4 import BeautifulSoup\n",
        "import urllib.request,sys,time\n",
        "import datetime\n",
        "import requests\n",
        "from time import sleep\n",
        "\n",
        "import pandas as pd\n",
        "import numpy as np\n",
        "import csv\n",
        "import matplotlib.pyplot as plt\n",
        "import plotly.graph_objects as go\n",
        "\n",
        "import yfinance as yf\n",
        "from yahoofinancials import YahooFinancials"
      ],
      "metadata": {
        "id": "EexNm9YsqNHr"
      },
      "execution_count": null,
      "outputs": []
    },
    {
      "cell_type": "code",
      "source": [
        "#Global constants\n",
        "\n",
        "_URL = 'https://www.prnewswire.com/news-releases/news-releases-list/'\n",
        "_HOMEURL = 'https://www.prnewswire.com/'\n",
        "_MONTH_VALS = {\"Jan\": 1, \"Feb\": 2, \"Mar\": 3, \"Apr\": 4, \"May\": 5, \"Jun\":6, \"Jul\": 7, \"Aug\": 8, \"Sep\": 9, \"Oct\": 10, \"Nov\": 11, \"Dec\": 12}"
      ],
      "metadata": {
        "id": "wyuow8sWq4A-"
      },
      "execution_count": null,
      "outputs": []
    },
    {
      "cell_type": "code",
      "source": [
        "count = 1\n",
        "newUrl = ''\n",
        "newsList = []"
      ],
      "metadata": {
        "id": "F-vhBB9w2n8P"
      },
      "execution_count": null,
      "outputs": []
    },
    {
      "cell_type": "markdown",
      "source": [
        "### Section 1"
      ],
      "metadata": {
        "id": "uNo-VkBvt-Rt"
      }
    },
    {
      "cell_type": "markdown",
      "source": [
        "Scan (the last two weeks or the last week, upto you) and parse news from “newswire” websit."
      ],
      "metadata": {
        "id": "yRK10H8wuC4O"
      }
    },
    {
      "cell_type": "code",
      "source": [
        "def scrapeData(listing):\n",
        "  topics = listing.find('a')['href']\n",
        "  # print('topic :' ,topics)\n",
        "  link = _HOMEURL+topics\n",
        "  extractNews = listing.h3\n",
        "  date, time = getDateTime(listing.h3.small.text.split(\",\"))\n",
        "  # print('Date:',dateTime)\n",
        "  heading = extractNews.text.split('\\n')[2]\n",
        "  # print(heading)\n",
        "  return [heading,date,time,link]"
      ],
      "metadata": {
        "id": "YNvqq1QcP2KJ"
      },
      "execution_count": null,
      "outputs": []
    },
    {
      "cell_type": "code",
      "source": [
        "class LimitReached(Exception):\n",
        "    ''' \n",
        "        Custom Exception class to pause exception on reaching limit\n",
        "    '''\n",
        "    pass"
      ],
      "metadata": {
        "id": "kZvfCJa8YLL4"
      },
      "execution_count": null,
      "outputs": []
    },
    {
      "cell_type": "code",
      "source": [
        "def getDateTime(timeStamp):\n",
        "    '''Helper function that return date and time of the news post'''\n",
        "    \n",
        "    if len(timeStamp) is not 1:\n",
        "      year = int(timeStamp[1].strip())\n",
        "      month = _MONTH_VALS[timeStamp[0].split(\" \")[0]]\n",
        "      date = int(timeStamp[0].split(\" \")[1])\n",
        "      # Check if the limit of 14 days has been reached or not\n",
        "      if (datetime.datetime.today() - datetime.datetime(year, month, date)).days is 14:\n",
        "        raise LimitReached\n",
        "          # If yes raise exception to break loop\n",
        "          # raise LimitReached\n",
        "      date = datetime.datetime(year, month, date).strftime(\"%b %d, %Y\")\n",
        "      time = timeStamp[-1].split(\" \")[-2]\n",
        "    else:\n",
        "      date = datetime.datetime.today().strftime(\"%b %d, %Y\")\n",
        "      time = timeStamp[0][0:-3]\n",
        "    return date, time"
      ],
      "metadata": {
        "id": "FrdDQGdiU5vk"
      },
      "execution_count": null,
      "outputs": []
    },
    {
      "cell_type": "code",
      "source": [
        "while True:\n",
        "  newUrl = _URL + '?page=' + str(count) + '&pagesize=100'\n",
        "  \n",
        "  try:\n",
        "    page=requests.get(newUrl)\n",
        "  except Exception as e:  \n",
        "    error_type, error_obj, error_info = sys.exc_info()  \n",
        "    print ('ERROR FOR LINK:',_URL)  \n",
        "    print (error_type, 'Line:', error_info.tb_lineno)\n",
        "  \n",
        "  soup = BeautifulSoup(page.text, \"html.parser\")\n",
        "  news=soup.find_all('div',attrs={'class':'row arabiclistingcards'})\n",
        "\n",
        "  try:\n",
        "    for listing in news:\n",
        "      newsList.append(scrapeData(listing))\n",
        "  except LimitReached:\n",
        "    break\n",
        "  count += 1\n",
        "  sleep(2)"
      ],
      "metadata": {
        "id": "dG3hQag1NVip"
      },
      "execution_count": null,
      "outputs": []
    },
    {
      "cell_type": "code",
      "source": [
        "newsList"
      ],
      "metadata": {
        "id": "0CBbG3uM3qyM"
      },
      "execution_count": null,
      "outputs": []
    },
    {
      "cell_type": "code",
      "source": [
        "header = ['News','Date','Time','Link']\n",
        "with open('News.csv', 'w') as csvfile:\n",
        "    writer = csv.writer(csvfile)\n",
        "    writer.writerow(header)\n",
        "    writer.writerows(newsList)"
      ],
      "metadata": {
        "id": "TTw13369kCnK"
      },
      "execution_count": null,
      "outputs": []
    },
    {
      "cell_type": "code",
      "source": [
        "df = pd.read_csv('News.csv')\n",
        "df.head()"
      ],
      "metadata": {
        "colab": {
          "base_uri": "https://localhost:8080/",
          "height": 206
        },
        "id": "JZT0tnSHm3bc",
        "outputId": "bc29067d-b353-4282-a8ca-9c9160b95d00"
      },
      "execution_count": null,
      "outputs": [
        {
          "output_type": "execute_result",
          "data": {
            "text/plain": [
              "                                                News          Date    Time  \\\n",
              "0  Electronic Trial Master File Systems Market Si...  Apr 12, 2022  02:45    \n",
              "1  Pet Tech Market to hit US$ 20 billion by 2028,...  Apr 12, 2022  02:32    \n",
              "2  Autoliv launches multi-year commitment to supp...  Apr 12, 2022  02:28    \n",
              "3  Concentric receives a development contract fro...  Apr 12, 2022  02:27    \n",
              "4  Loomis AB issues SEK 300 million of Sustainabi...  Apr 12, 2022  02:23    \n",
              "\n",
              "                                                Link  \n",
              "0  https://www.prnewswire.com//news-releases/elec...  \n",
              "1  https://www.prnewswire.com//news-releases/pet-...  \n",
              "2  https://www.prnewswire.com//news-releases/auto...  \n",
              "3  https://www.prnewswire.com//news-releases/conc...  \n",
              "4  https://www.prnewswire.com//news-releases/loom...  "
            ],
            "text/html": [
              "\n",
              "  <div id=\"df-7c77f4c0-2f7c-4db0-931c-98868233b882\">\n",
              "    <div class=\"colab-df-container\">\n",
              "      <div>\n",
              "<style scoped>\n",
              "    .dataframe tbody tr th:only-of-type {\n",
              "        vertical-align: middle;\n",
              "    }\n",
              "\n",
              "    .dataframe tbody tr th {\n",
              "        vertical-align: top;\n",
              "    }\n",
              "\n",
              "    .dataframe thead th {\n",
              "        text-align: right;\n",
              "    }\n",
              "</style>\n",
              "<table border=\"1\" class=\"dataframe\">\n",
              "  <thead>\n",
              "    <tr style=\"text-align: right;\">\n",
              "      <th></th>\n",
              "      <th>News</th>\n",
              "      <th>Date</th>\n",
              "      <th>Time</th>\n",
              "      <th>Link</th>\n",
              "    </tr>\n",
              "  </thead>\n",
              "  <tbody>\n",
              "    <tr>\n",
              "      <th>0</th>\n",
              "      <td>Electronic Trial Master File Systems Market Si...</td>\n",
              "      <td>Apr 12, 2022</td>\n",
              "      <td>02:45</td>\n",
              "      <td>https://www.prnewswire.com//news-releases/elec...</td>\n",
              "    </tr>\n",
              "    <tr>\n",
              "      <th>1</th>\n",
              "      <td>Pet Tech Market to hit US$ 20 billion by 2028,...</td>\n",
              "      <td>Apr 12, 2022</td>\n",
              "      <td>02:32</td>\n",
              "      <td>https://www.prnewswire.com//news-releases/pet-...</td>\n",
              "    </tr>\n",
              "    <tr>\n",
              "      <th>2</th>\n",
              "      <td>Autoliv launches multi-year commitment to supp...</td>\n",
              "      <td>Apr 12, 2022</td>\n",
              "      <td>02:28</td>\n",
              "      <td>https://www.prnewswire.com//news-releases/auto...</td>\n",
              "    </tr>\n",
              "    <tr>\n",
              "      <th>3</th>\n",
              "      <td>Concentric receives a development contract fro...</td>\n",
              "      <td>Apr 12, 2022</td>\n",
              "      <td>02:27</td>\n",
              "      <td>https://www.prnewswire.com//news-releases/conc...</td>\n",
              "    </tr>\n",
              "    <tr>\n",
              "      <th>4</th>\n",
              "      <td>Loomis AB issues SEK 300 million of Sustainabi...</td>\n",
              "      <td>Apr 12, 2022</td>\n",
              "      <td>02:23</td>\n",
              "      <td>https://www.prnewswire.com//news-releases/loom...</td>\n",
              "    </tr>\n",
              "  </tbody>\n",
              "</table>\n",
              "</div>\n",
              "      <button class=\"colab-df-convert\" onclick=\"convertToInteractive('df-7c77f4c0-2f7c-4db0-931c-98868233b882')\"\n",
              "              title=\"Convert this dataframe to an interactive table.\"\n",
              "              style=\"display:none;\">\n",
              "        \n",
              "  <svg xmlns=\"http://www.w3.org/2000/svg\" height=\"24px\"viewBox=\"0 0 24 24\"\n",
              "       width=\"24px\">\n",
              "    <path d=\"M0 0h24v24H0V0z\" fill=\"none\"/>\n",
              "    <path d=\"M18.56 5.44l.94 2.06.94-2.06 2.06-.94-2.06-.94-.94-2.06-.94 2.06-2.06.94zm-11 1L8.5 8.5l.94-2.06 2.06-.94-2.06-.94L8.5 2.5l-.94 2.06-2.06.94zm10 10l.94 2.06.94-2.06 2.06-.94-2.06-.94-.94-2.06-.94 2.06-2.06.94z\"/><path d=\"M17.41 7.96l-1.37-1.37c-.4-.4-.92-.59-1.43-.59-.52 0-1.04.2-1.43.59L10.3 9.45l-7.72 7.72c-.78.78-.78 2.05 0 2.83L4 21.41c.39.39.9.59 1.41.59.51 0 1.02-.2 1.41-.59l7.78-7.78 2.81-2.81c.8-.78.8-2.07 0-2.86zM5.41 20L4 18.59l7.72-7.72 1.47 1.35L5.41 20z\"/>\n",
              "  </svg>\n",
              "      </button>\n",
              "      \n",
              "  <style>\n",
              "    .colab-df-container {\n",
              "      display:flex;\n",
              "      flex-wrap:wrap;\n",
              "      gap: 12px;\n",
              "    }\n",
              "\n",
              "    .colab-df-convert {\n",
              "      background-color: #E8F0FE;\n",
              "      border: none;\n",
              "      border-radius: 50%;\n",
              "      cursor: pointer;\n",
              "      display: none;\n",
              "      fill: #1967D2;\n",
              "      height: 32px;\n",
              "      padding: 0 0 0 0;\n",
              "      width: 32px;\n",
              "    }\n",
              "\n",
              "    .colab-df-convert:hover {\n",
              "      background-color: #E2EBFA;\n",
              "      box-shadow: 0px 1px 2px rgba(60, 64, 67, 0.3), 0px 1px 3px 1px rgba(60, 64, 67, 0.15);\n",
              "      fill: #174EA6;\n",
              "    }\n",
              "\n",
              "    [theme=dark] .colab-df-convert {\n",
              "      background-color: #3B4455;\n",
              "      fill: #D2E3FC;\n",
              "    }\n",
              "\n",
              "    [theme=dark] .colab-df-convert:hover {\n",
              "      background-color: #434B5C;\n",
              "      box-shadow: 0px 1px 3px 1px rgba(0, 0, 0, 0.15);\n",
              "      filter: drop-shadow(0px 1px 2px rgba(0, 0, 0, 0.3));\n",
              "      fill: #FFFFFF;\n",
              "    }\n",
              "  </style>\n",
              "\n",
              "      <script>\n",
              "        const buttonEl =\n",
              "          document.querySelector('#df-7c77f4c0-2f7c-4db0-931c-98868233b882 button.colab-df-convert');\n",
              "        buttonEl.style.display =\n",
              "          google.colab.kernel.accessAllowed ? 'block' : 'none';\n",
              "\n",
              "        async function convertToInteractive(key) {\n",
              "          const element = document.querySelector('#df-7c77f4c0-2f7c-4db0-931c-98868233b882');\n",
              "          const dataTable =\n",
              "            await google.colab.kernel.invokeFunction('convertToInteractive',\n",
              "                                                     [key], {});\n",
              "          if (!dataTable) return;\n",
              "\n",
              "          const docLinkHtml = 'Like what you see? Visit the ' +\n",
              "            '<a target=\"_blank\" href=https://colab.research.google.com/notebooks/data_table.ipynb>data table notebook</a>'\n",
              "            + ' to learn more about interactive tables.';\n",
              "          element.innerHTML = '';\n",
              "          dataTable['output_type'] = 'display_data';\n",
              "          await google.colab.output.renderOutput(dataTable, element);\n",
              "          const docLink = document.createElement('div');\n",
              "          docLink.innerHTML = docLinkHtml;\n",
              "          element.appendChild(docLink);\n",
              "        }\n",
              "      </script>\n",
              "    </div>\n",
              "  </div>\n",
              "  "
            ]
          },
          "metadata": {},
          "execution_count": 138
        }
      ]
    },
    {
      "cell_type": "code",
      "source": [
        "df.dropna()"
      ],
      "metadata": {
        "colab": {
          "base_uri": "https://localhost:8080/",
          "height": 424
        },
        "id": "o3EE0b4cnE-V",
        "outputId": "fd423b7e-870e-43b4-a0a7-23c7561e7ef3"
      },
      "execution_count": null,
      "outputs": [
        {
          "output_type": "execute_result",
          "data": {
            "text/plain": [
              "                                                  News          Date    Time  \\\n",
              "0    Electronic Trial Master File Systems Market Si...  Apr 12, 2022  02:45    \n",
              "1    Pet Tech Market to hit US$ 20 billion by 2028,...  Apr 12, 2022  02:32    \n",
              "2    Autoliv launches multi-year commitment to supp...  Apr 12, 2022  02:28    \n",
              "3    Concentric receives a development contract fro...  Apr 12, 2022  02:27    \n",
              "4    Loomis AB issues SEK 300 million of Sustainabi...  Apr 12, 2022  02:23    \n",
              "..                                                 ...           ...     ...   \n",
              "987  USD 23.83 Mn growth expected in Annuloplasty R...  Apr 11, 2022   01:45   \n",
              "988  Pet Care Market size to increase by USD 48.94 ...  Apr 11, 2022   01:30   \n",
              "989  Realestate.com.kh Partners with Realsee to Tra...  Apr 11, 2022   01:24   \n",
              "990  Industrial Energy Efficiency Services Market S...  Apr 11, 2022   01:15   \n",
              "991  Gym Management Software Market Size to Grow by...  Apr 11, 2022   01:00   \n",
              "\n",
              "                                                  Link  \n",
              "0    https://www.prnewswire.com//news-releases/elec...  \n",
              "1    https://www.prnewswire.com//news-releases/pet-...  \n",
              "2    https://www.prnewswire.com//news-releases/auto...  \n",
              "3    https://www.prnewswire.com//news-releases/conc...  \n",
              "4    https://www.prnewswire.com//news-releases/loom...  \n",
              "..                                                 ...  \n",
              "987  https://www.prnewswire.com//news-releases/usd-...  \n",
              "988  https://www.prnewswire.com//news-releases/pet-...  \n",
              "989  https://www.prnewswire.com//news-releases/real...  \n",
              "990  https://www.prnewswire.com//news-releases/indu...  \n",
              "991  https://www.prnewswire.com//news-releases/gym-...  \n",
              "\n",
              "[991 rows x 4 columns]"
            ],
            "text/html": [
              "\n",
              "  <div id=\"df-c7c84a90-7680-459a-afcc-f39def7f4320\">\n",
              "    <div class=\"colab-df-container\">\n",
              "      <div>\n",
              "<style scoped>\n",
              "    .dataframe tbody tr th:only-of-type {\n",
              "        vertical-align: middle;\n",
              "    }\n",
              "\n",
              "    .dataframe tbody tr th {\n",
              "        vertical-align: top;\n",
              "    }\n",
              "\n",
              "    .dataframe thead th {\n",
              "        text-align: right;\n",
              "    }\n",
              "</style>\n",
              "<table border=\"1\" class=\"dataframe\">\n",
              "  <thead>\n",
              "    <tr style=\"text-align: right;\">\n",
              "      <th></th>\n",
              "      <th>News</th>\n",
              "      <th>Date</th>\n",
              "      <th>Time</th>\n",
              "      <th>Link</th>\n",
              "    </tr>\n",
              "  </thead>\n",
              "  <tbody>\n",
              "    <tr>\n",
              "      <th>0</th>\n",
              "      <td>Electronic Trial Master File Systems Market Si...</td>\n",
              "      <td>Apr 12, 2022</td>\n",
              "      <td>02:45</td>\n",
              "      <td>https://www.prnewswire.com//news-releases/elec...</td>\n",
              "    </tr>\n",
              "    <tr>\n",
              "      <th>1</th>\n",
              "      <td>Pet Tech Market to hit US$ 20 billion by 2028,...</td>\n",
              "      <td>Apr 12, 2022</td>\n",
              "      <td>02:32</td>\n",
              "      <td>https://www.prnewswire.com//news-releases/pet-...</td>\n",
              "    </tr>\n",
              "    <tr>\n",
              "      <th>2</th>\n",
              "      <td>Autoliv launches multi-year commitment to supp...</td>\n",
              "      <td>Apr 12, 2022</td>\n",
              "      <td>02:28</td>\n",
              "      <td>https://www.prnewswire.com//news-releases/auto...</td>\n",
              "    </tr>\n",
              "    <tr>\n",
              "      <th>3</th>\n",
              "      <td>Concentric receives a development contract fro...</td>\n",
              "      <td>Apr 12, 2022</td>\n",
              "      <td>02:27</td>\n",
              "      <td>https://www.prnewswire.com//news-releases/conc...</td>\n",
              "    </tr>\n",
              "    <tr>\n",
              "      <th>4</th>\n",
              "      <td>Loomis AB issues SEK 300 million of Sustainabi...</td>\n",
              "      <td>Apr 12, 2022</td>\n",
              "      <td>02:23</td>\n",
              "      <td>https://www.prnewswire.com//news-releases/loom...</td>\n",
              "    </tr>\n",
              "    <tr>\n",
              "      <th>...</th>\n",
              "      <td>...</td>\n",
              "      <td>...</td>\n",
              "      <td>...</td>\n",
              "      <td>...</td>\n",
              "    </tr>\n",
              "    <tr>\n",
              "      <th>987</th>\n",
              "      <td>USD 23.83 Mn growth expected in Annuloplasty R...</td>\n",
              "      <td>Apr 11, 2022</td>\n",
              "      <td>01:45</td>\n",
              "      <td>https://www.prnewswire.com//news-releases/usd-...</td>\n",
              "    </tr>\n",
              "    <tr>\n",
              "      <th>988</th>\n",
              "      <td>Pet Care Market size to increase by USD 48.94 ...</td>\n",
              "      <td>Apr 11, 2022</td>\n",
              "      <td>01:30</td>\n",
              "      <td>https://www.prnewswire.com//news-releases/pet-...</td>\n",
              "    </tr>\n",
              "    <tr>\n",
              "      <th>989</th>\n",
              "      <td>Realestate.com.kh Partners with Realsee to Tra...</td>\n",
              "      <td>Apr 11, 2022</td>\n",
              "      <td>01:24</td>\n",
              "      <td>https://www.prnewswire.com//news-releases/real...</td>\n",
              "    </tr>\n",
              "    <tr>\n",
              "      <th>990</th>\n",
              "      <td>Industrial Energy Efficiency Services Market S...</td>\n",
              "      <td>Apr 11, 2022</td>\n",
              "      <td>01:15</td>\n",
              "      <td>https://www.prnewswire.com//news-releases/indu...</td>\n",
              "    </tr>\n",
              "    <tr>\n",
              "      <th>991</th>\n",
              "      <td>Gym Management Software Market Size to Grow by...</td>\n",
              "      <td>Apr 11, 2022</td>\n",
              "      <td>01:00</td>\n",
              "      <td>https://www.prnewswire.com//news-releases/gym-...</td>\n",
              "    </tr>\n",
              "  </tbody>\n",
              "</table>\n",
              "<p>991 rows × 4 columns</p>\n",
              "</div>\n",
              "      <button class=\"colab-df-convert\" onclick=\"convertToInteractive('df-c7c84a90-7680-459a-afcc-f39def7f4320')\"\n",
              "              title=\"Convert this dataframe to an interactive table.\"\n",
              "              style=\"display:none;\">\n",
              "        \n",
              "  <svg xmlns=\"http://www.w3.org/2000/svg\" height=\"24px\"viewBox=\"0 0 24 24\"\n",
              "       width=\"24px\">\n",
              "    <path d=\"M0 0h24v24H0V0z\" fill=\"none\"/>\n",
              "    <path d=\"M18.56 5.44l.94 2.06.94-2.06 2.06-.94-2.06-.94-.94-2.06-.94 2.06-2.06.94zm-11 1L8.5 8.5l.94-2.06 2.06-.94-2.06-.94L8.5 2.5l-.94 2.06-2.06.94zm10 10l.94 2.06.94-2.06 2.06-.94-2.06-.94-.94-2.06-.94 2.06-2.06.94z\"/><path d=\"M17.41 7.96l-1.37-1.37c-.4-.4-.92-.59-1.43-.59-.52 0-1.04.2-1.43.59L10.3 9.45l-7.72 7.72c-.78.78-.78 2.05 0 2.83L4 21.41c.39.39.9.59 1.41.59.51 0 1.02-.2 1.41-.59l7.78-7.78 2.81-2.81c.8-.78.8-2.07 0-2.86zM5.41 20L4 18.59l7.72-7.72 1.47 1.35L5.41 20z\"/>\n",
              "  </svg>\n",
              "      </button>\n",
              "      \n",
              "  <style>\n",
              "    .colab-df-container {\n",
              "      display:flex;\n",
              "      flex-wrap:wrap;\n",
              "      gap: 12px;\n",
              "    }\n",
              "\n",
              "    .colab-df-convert {\n",
              "      background-color: #E8F0FE;\n",
              "      border: none;\n",
              "      border-radius: 50%;\n",
              "      cursor: pointer;\n",
              "      display: none;\n",
              "      fill: #1967D2;\n",
              "      height: 32px;\n",
              "      padding: 0 0 0 0;\n",
              "      width: 32px;\n",
              "    }\n",
              "\n",
              "    .colab-df-convert:hover {\n",
              "      background-color: #E2EBFA;\n",
              "      box-shadow: 0px 1px 2px rgba(60, 64, 67, 0.3), 0px 1px 3px 1px rgba(60, 64, 67, 0.15);\n",
              "      fill: #174EA6;\n",
              "    }\n",
              "\n",
              "    [theme=dark] .colab-df-convert {\n",
              "      background-color: #3B4455;\n",
              "      fill: #D2E3FC;\n",
              "    }\n",
              "\n",
              "    [theme=dark] .colab-df-convert:hover {\n",
              "      background-color: #434B5C;\n",
              "      box-shadow: 0px 1px 3px 1px rgba(0, 0, 0, 0.15);\n",
              "      filter: drop-shadow(0px 1px 2px rgba(0, 0, 0, 0.3));\n",
              "      fill: #FFFFFF;\n",
              "    }\n",
              "  </style>\n",
              "\n",
              "      <script>\n",
              "        const buttonEl =\n",
              "          document.querySelector('#df-c7c84a90-7680-459a-afcc-f39def7f4320 button.colab-df-convert');\n",
              "        buttonEl.style.display =\n",
              "          google.colab.kernel.accessAllowed ? 'block' : 'none';\n",
              "\n",
              "        async function convertToInteractive(key) {\n",
              "          const element = document.querySelector('#df-c7c84a90-7680-459a-afcc-f39def7f4320');\n",
              "          const dataTable =\n",
              "            await google.colab.kernel.invokeFunction('convertToInteractive',\n",
              "                                                     [key], {});\n",
              "          if (!dataTable) return;\n",
              "\n",
              "          const docLinkHtml = 'Like what you see? Visit the ' +\n",
              "            '<a target=\"_blank\" href=https://colab.research.google.com/notebooks/data_table.ipynb>data table notebook</a>'\n",
              "            + ' to learn more about interactive tables.';\n",
              "          element.innerHTML = '';\n",
              "          dataTable['output_type'] = 'display_data';\n",
              "          await google.colab.output.renderOutput(dataTable, element);\n",
              "          const docLink = document.createElement('div');\n",
              "          docLink.innerHTML = docLinkHtml;\n",
              "          element.appendChild(docLink);\n",
              "        }\n",
              "      </script>\n",
              "    </div>\n",
              "  </div>\n",
              "  "
            ]
          },
          "metadata": {},
          "execution_count": 139
        }
      ]
    },
    {
      "cell_type": "code",
      "source": [
        "newsList = df['News']\n",
        "newsList"
      ],
      "metadata": {
        "colab": {
          "base_uri": "https://localhost:8080/"
        },
        "id": "yT7N_wG-xjtA",
        "outputId": "8c3ccc29-0bec-48f6-ba54-871df095c35b"
      },
      "execution_count": null,
      "outputs": [
        {
          "output_type": "execute_result",
          "data": {
            "text/plain": [
              "0      Electronic Trial Master File Systems Market Si...\n",
              "1      Pet Tech Market to hit US$ 20 billion by 2028,...\n",
              "2      Autoliv launches multi-year commitment to supp...\n",
              "3      Concentric receives a development contract fro...\n",
              "4      Loomis AB issues SEK 300 million of Sustainabi...\n",
              "                             ...                        \n",
              "987    USD 23.83 Mn growth expected in Annuloplasty R...\n",
              "988    Pet Care Market size to increase by USD 48.94 ...\n",
              "989    Realestate.com.kh Partners with Realsee to Tra...\n",
              "990    Industrial Energy Efficiency Services Market S...\n",
              "991    Gym Management Software Market Size to Grow by...\n",
              "Name: News, Length: 992, dtype: object"
            ]
          },
          "metadata": {},
          "execution_count": 140
        }
      ]
    },
    {
      "cell_type": "code",
      "source": [
        "_SYMBOLS = ['CDR','FHN','STYE','GDNSF','VOLT','TLMD']\n",
        "\n",
        "stock_news = {}\n",
        "\n",
        "for symb in _SYMBOLS:\n",
        "    stock_news[symb] = [index for index, newsString in enumerate(newsList) if symb in newsString]"
      ],
      "metadata": {
        "colab": {
          "base_uri": "https://localhost:8080/"
        },
        "id": "piLhEYs0xAO1",
        "outputId": "870bb4e6-b4d2-4810-8c51-3dab819d9384"
      },
      "execution_count": null,
      "outputs": [
        {
          "output_type": "execute_result",
          "data": {
            "text/plain": [
              "{'CDR': [], 'FHN': [], 'GDNSF': [], 'STYE': [], 'TLMD': [], 'VOLT': []}"
            ]
          },
          "metadata": {},
          "execution_count": 134
        }
      ]
    }
  ]
}